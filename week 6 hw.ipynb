{
 "cells": [
  {
   "cell_type": "code",
   "execution_count": 1,
   "metadata": {},
   "outputs": [],
   "source": [
    "import numpy as np\n",
    "import pandas as pd \n",
    "from sklearn.linear_model import LinearRegression\n",
    "from sklearn.model_selection import train_test_split \n",
    "from sklearn import metrics\n",
    "%matplotlib inline\n",
    "import matplotlib.pyplot as plt\n",
    "import seaborn as sns\n",
    "import regex as re\n",
    "from sklearn import preprocessing\n",
    "import seaborn as sns"
   ]
  },
  {
   "cell_type": "code",
   "execution_count": 2,
   "metadata": {},
   "outputs": [
    {
     "data": {
      "text/html": [
       "<div>\n",
       "<style scoped>\n",
       "    .dataframe tbody tr th:only-of-type {\n",
       "        vertical-align: middle;\n",
       "    }\n",
       "\n",
       "    .dataframe tbody tr th {\n",
       "        vertical-align: top;\n",
       "    }\n",
       "\n",
       "    .dataframe thead th {\n",
       "        text-align: right;\n",
       "    }\n",
       "</style>\n",
       "<table border=\"1\" class=\"dataframe\">\n",
       "  <thead>\n",
       "    <tr style=\"text-align: right;\">\n",
       "      <th></th>\n",
       "      <th>age</th>\n",
       "      <th>workclass</th>\n",
       "      <th>fnlwgt</th>\n",
       "      <th>education</th>\n",
       "      <th>education-num</th>\n",
       "      <th>marital-status</th>\n",
       "      <th>occupation</th>\n",
       "      <th>relationship</th>\n",
       "      <th>race</th>\n",
       "      <th>sex</th>\n",
       "      <th>capital-gain</th>\n",
       "      <th>capital-loss</th>\n",
       "      <th>hours-per-week</th>\n",
       "      <th>native-country</th>\n",
       "      <th>income</th>\n",
       "    </tr>\n",
       "  </thead>\n",
       "  <tbody>\n",
       "    <tr>\n",
       "      <th>0</th>\n",
       "      <td>39</td>\n",
       "      <td>State-gov</td>\n",
       "      <td>77516</td>\n",
       "      <td>Bachelors</td>\n",
       "      <td>13</td>\n",
       "      <td>Never-married</td>\n",
       "      <td>Adm-clerical</td>\n",
       "      <td>Not-in-family</td>\n",
       "      <td>White</td>\n",
       "      <td>Male</td>\n",
       "      <td>2174</td>\n",
       "      <td>0</td>\n",
       "      <td>40</td>\n",
       "      <td>United-States</td>\n",
       "      <td>&lt;=50K</td>\n",
       "    </tr>\n",
       "    <tr>\n",
       "      <th>1</th>\n",
       "      <td>50</td>\n",
       "      <td>Self-emp-not-inc</td>\n",
       "      <td>83311</td>\n",
       "      <td>Bachelors</td>\n",
       "      <td>13</td>\n",
       "      <td>Married-civ-spouse</td>\n",
       "      <td>Exec-managerial</td>\n",
       "      <td>Husband</td>\n",
       "      <td>White</td>\n",
       "      <td>Male</td>\n",
       "      <td>0</td>\n",
       "      <td>0</td>\n",
       "      <td>13</td>\n",
       "      <td>United-States</td>\n",
       "      <td>&lt;=50K</td>\n",
       "    </tr>\n",
       "    <tr>\n",
       "      <th>2</th>\n",
       "      <td>38</td>\n",
       "      <td>Private</td>\n",
       "      <td>215646</td>\n",
       "      <td>HS-grad</td>\n",
       "      <td>9</td>\n",
       "      <td>Divorced</td>\n",
       "      <td>Handlers-cleaners</td>\n",
       "      <td>Not-in-family</td>\n",
       "      <td>White</td>\n",
       "      <td>Male</td>\n",
       "      <td>0</td>\n",
       "      <td>0</td>\n",
       "      <td>40</td>\n",
       "      <td>United-States</td>\n",
       "      <td>&lt;=50K</td>\n",
       "    </tr>\n",
       "    <tr>\n",
       "      <th>3</th>\n",
       "      <td>53</td>\n",
       "      <td>Private</td>\n",
       "      <td>234721</td>\n",
       "      <td>11th</td>\n",
       "      <td>7</td>\n",
       "      <td>Married-civ-spouse</td>\n",
       "      <td>Handlers-cleaners</td>\n",
       "      <td>Husband</td>\n",
       "      <td>Black</td>\n",
       "      <td>Male</td>\n",
       "      <td>0</td>\n",
       "      <td>0</td>\n",
       "      <td>40</td>\n",
       "      <td>United-States</td>\n",
       "      <td>&lt;=50K</td>\n",
       "    </tr>\n",
       "    <tr>\n",
       "      <th>4</th>\n",
       "      <td>28</td>\n",
       "      <td>Private</td>\n",
       "      <td>338409</td>\n",
       "      <td>Bachelors</td>\n",
       "      <td>13</td>\n",
       "      <td>Married-civ-spouse</td>\n",
       "      <td>Prof-specialty</td>\n",
       "      <td>Wife</td>\n",
       "      <td>Black</td>\n",
       "      <td>Female</td>\n",
       "      <td>0</td>\n",
       "      <td>0</td>\n",
       "      <td>40</td>\n",
       "      <td>Cuba</td>\n",
       "      <td>&lt;=50K</td>\n",
       "    </tr>\n",
       "    <tr>\n",
       "      <th>...</th>\n",
       "      <td>...</td>\n",
       "      <td>...</td>\n",
       "      <td>...</td>\n",
       "      <td>...</td>\n",
       "      <td>...</td>\n",
       "      <td>...</td>\n",
       "      <td>...</td>\n",
       "      <td>...</td>\n",
       "      <td>...</td>\n",
       "      <td>...</td>\n",
       "      <td>...</td>\n",
       "      <td>...</td>\n",
       "      <td>...</td>\n",
       "      <td>...</td>\n",
       "      <td>...</td>\n",
       "    </tr>\n",
       "    <tr>\n",
       "      <th>32556</th>\n",
       "      <td>27</td>\n",
       "      <td>Private</td>\n",
       "      <td>257302</td>\n",
       "      <td>Assoc-acdm</td>\n",
       "      <td>12</td>\n",
       "      <td>Married-civ-spouse</td>\n",
       "      <td>Tech-support</td>\n",
       "      <td>Wife</td>\n",
       "      <td>White</td>\n",
       "      <td>Female</td>\n",
       "      <td>0</td>\n",
       "      <td>0</td>\n",
       "      <td>38</td>\n",
       "      <td>United-States</td>\n",
       "      <td>&lt;=50K</td>\n",
       "    </tr>\n",
       "    <tr>\n",
       "      <th>32557</th>\n",
       "      <td>40</td>\n",
       "      <td>Private</td>\n",
       "      <td>154374</td>\n",
       "      <td>HS-grad</td>\n",
       "      <td>9</td>\n",
       "      <td>Married-civ-spouse</td>\n",
       "      <td>Machine-op-inspct</td>\n",
       "      <td>Husband</td>\n",
       "      <td>White</td>\n",
       "      <td>Male</td>\n",
       "      <td>0</td>\n",
       "      <td>0</td>\n",
       "      <td>40</td>\n",
       "      <td>United-States</td>\n",
       "      <td>&gt;50K</td>\n",
       "    </tr>\n",
       "    <tr>\n",
       "      <th>32558</th>\n",
       "      <td>58</td>\n",
       "      <td>Private</td>\n",
       "      <td>151910</td>\n",
       "      <td>HS-grad</td>\n",
       "      <td>9</td>\n",
       "      <td>Widowed</td>\n",
       "      <td>Adm-clerical</td>\n",
       "      <td>Unmarried</td>\n",
       "      <td>White</td>\n",
       "      <td>Female</td>\n",
       "      <td>0</td>\n",
       "      <td>0</td>\n",
       "      <td>40</td>\n",
       "      <td>United-States</td>\n",
       "      <td>&lt;=50K</td>\n",
       "    </tr>\n",
       "    <tr>\n",
       "      <th>32559</th>\n",
       "      <td>22</td>\n",
       "      <td>Private</td>\n",
       "      <td>201490</td>\n",
       "      <td>HS-grad</td>\n",
       "      <td>9</td>\n",
       "      <td>Never-married</td>\n",
       "      <td>Adm-clerical</td>\n",
       "      <td>Own-child</td>\n",
       "      <td>White</td>\n",
       "      <td>Male</td>\n",
       "      <td>0</td>\n",
       "      <td>0</td>\n",
       "      <td>20</td>\n",
       "      <td>United-States</td>\n",
       "      <td>&lt;=50K</td>\n",
       "    </tr>\n",
       "    <tr>\n",
       "      <th>32560</th>\n",
       "      <td>52</td>\n",
       "      <td>Self-emp-inc</td>\n",
       "      <td>287927</td>\n",
       "      <td>HS-grad</td>\n",
       "      <td>9</td>\n",
       "      <td>Married-civ-spouse</td>\n",
       "      <td>Exec-managerial</td>\n",
       "      <td>Wife</td>\n",
       "      <td>White</td>\n",
       "      <td>Female</td>\n",
       "      <td>15024</td>\n",
       "      <td>0</td>\n",
       "      <td>40</td>\n",
       "      <td>United-States</td>\n",
       "      <td>&gt;50K</td>\n",
       "    </tr>\n",
       "  </tbody>\n",
       "</table>\n",
       "<p>32561 rows × 15 columns</p>\n",
       "</div>"
      ],
      "text/plain": [
       "       age          workclass   fnlwgt    education   education-num  \\\n",
       "0       39          State-gov    77516    Bachelors              13   \n",
       "1       50   Self-emp-not-inc    83311    Bachelors              13   \n",
       "2       38            Private   215646      HS-grad               9   \n",
       "3       53            Private   234721         11th               7   \n",
       "4       28            Private   338409    Bachelors              13   \n",
       "...    ...                ...      ...          ...             ...   \n",
       "32556   27            Private   257302   Assoc-acdm              12   \n",
       "32557   40            Private   154374      HS-grad               9   \n",
       "32558   58            Private   151910      HS-grad               9   \n",
       "32559   22            Private   201490      HS-grad               9   \n",
       "32560   52       Self-emp-inc   287927      HS-grad               9   \n",
       "\n",
       "            marital-status          occupation    relationship    race  \\\n",
       "0            Never-married        Adm-clerical   Not-in-family   White   \n",
       "1       Married-civ-spouse     Exec-managerial         Husband   White   \n",
       "2                 Divorced   Handlers-cleaners   Not-in-family   White   \n",
       "3       Married-civ-spouse   Handlers-cleaners         Husband   Black   \n",
       "4       Married-civ-spouse      Prof-specialty            Wife   Black   \n",
       "...                    ...                 ...             ...     ...   \n",
       "32556   Married-civ-spouse        Tech-support            Wife   White   \n",
       "32557   Married-civ-spouse   Machine-op-inspct         Husband   White   \n",
       "32558              Widowed        Adm-clerical       Unmarried   White   \n",
       "32559        Never-married        Adm-clerical       Own-child   White   \n",
       "32560   Married-civ-spouse     Exec-managerial            Wife   White   \n",
       "\n",
       "           sex   capital-gain   capital-loss   hours-per-week  native-country  \\\n",
       "0         Male           2174              0               40   United-States   \n",
       "1         Male              0              0               13   United-States   \n",
       "2         Male              0              0               40   United-States   \n",
       "3         Male              0              0               40   United-States   \n",
       "4       Female              0              0               40            Cuba   \n",
       "...        ...            ...            ...              ...             ...   \n",
       "32556   Female              0              0               38   United-States   \n",
       "32557     Male              0              0               40   United-States   \n",
       "32558   Female              0              0               40   United-States   \n",
       "32559     Male              0              0               20   United-States   \n",
       "32560   Female          15024              0               40   United-States   \n",
       "\n",
       "       income  \n",
       "0       <=50K  \n",
       "1       <=50K  \n",
       "2       <=50K  \n",
       "3       <=50K  \n",
       "4       <=50K  \n",
       "...       ...  \n",
       "32556   <=50K  \n",
       "32557    >50K  \n",
       "32558   <=50K  \n",
       "32559   <=50K  \n",
       "32560    >50K  \n",
       "\n",
       "[32561 rows x 15 columns]"
      ]
     },
     "execution_count": 2,
     "metadata": {},
     "output_type": "execute_result"
    }
   ],
   "source": [
    "income = pd.read_csv('income_evaluation.csv')\n",
    "income"
   ]
  },
  {
   "cell_type": "code",
   "execution_count": 3,
   "metadata": {},
   "outputs": [
    {
     "data": {
      "text/plain": [
       "age                0\n",
       " workclass         0\n",
       " fnlwgt            0\n",
       " education         0\n",
       " education-num     0\n",
       " marital-status    0\n",
       " occupation        0\n",
       " relationship      0\n",
       " race              0\n",
       " sex               0\n",
       " capital-gain      0\n",
       " capital-loss      0\n",
       " hours-per-week    0\n",
       " native-country    0\n",
       " income            0\n",
       "dtype: int64"
      ]
     },
     "execution_count": 3,
     "metadata": {},
     "output_type": "execute_result"
    }
   ],
   "source": [
    "income.isnull().sum()"
   ]
  },
  {
   "cell_type": "code",
   "execution_count": 4,
   "metadata": {
    "scrolled": false
   },
   "outputs": [
    {
     "name": "stdout",
     "output_type": "stream",
     "text": [
      "age\n",
      "[39 50 38 53 28 37 49 52 31 42 30 23 32 40 34 25 43 54 35 59 56 19 20 45\n",
      " 22 48 21 24 57 44 41 29 18 47 46 36 79 27 67 33 76 17 55 61 70 64 71 68\n",
      " 66 51 58 26 60 90 75 65 77 62 63 80 72 74 69 73 81 78 88 82 83 84 85 86\n",
      " 87]\n",
      " workclass\n",
      "[' State-gov' ' Self-emp-not-inc' ' Private' ' Federal-gov' ' Local-gov'\n",
      " ' ?' ' Self-emp-inc' ' Without-pay' ' Never-worked']\n",
      " fnlwgt\n",
      "[ 77516  83311 215646 ...  34066  84661 257302]\n",
      " education\n",
      "[' Bachelors' ' HS-grad' ' 11th' ' Masters' ' 9th' ' Some-college'\n",
      " ' Assoc-acdm' ' Assoc-voc' ' 7th-8th' ' Doctorate' ' Prof-school'\n",
      " ' 5th-6th' ' 10th' ' 1st-4th' ' Preschool' ' 12th']\n",
      " education-num\n",
      "[13  9  7 14  5 10 12 11  4 16 15  3  6  2  1  8]\n",
      " marital-status\n",
      "[' Never-married' ' Married-civ-spouse' ' Divorced'\n",
      " ' Married-spouse-absent' ' Separated' ' Married-AF-spouse' ' Widowed']\n",
      " occupation\n",
      "[' Adm-clerical' ' Exec-managerial' ' Handlers-cleaners' ' Prof-specialty'\n",
      " ' Other-service' ' Sales' ' Craft-repair' ' Transport-moving'\n",
      " ' Farming-fishing' ' Machine-op-inspct' ' Tech-support' ' ?'\n",
      " ' Protective-serv' ' Armed-Forces' ' Priv-house-serv']\n",
      " relationship\n",
      "[' Not-in-family' ' Husband' ' Wife' ' Own-child' ' Unmarried'\n",
      " ' Other-relative']\n",
      " race\n",
      "[' White' ' Black' ' Asian-Pac-Islander' ' Amer-Indian-Eskimo' ' Other']\n",
      " sex\n",
      "[' Male' ' Female']\n",
      " capital-gain\n",
      "[ 2174     0 14084  5178  5013  2407 14344 15024  7688 34095  4064  4386\n",
      "  7298  1409  3674  1055  3464  2050  2176   594 20051  6849  4101  1111\n",
      "  8614  3411  2597 25236  4650  9386  2463  3103 10605  2964  3325  2580\n",
      "  3471  4865 99999  6514  1471  2329  2105  2885 25124 10520  2202  2961\n",
      " 27828  6767  2228  1506 13550  2635  5556  4787  3781  3137  3818  3942\n",
      "   914   401  2829  2977  4934  2062  2354  5455 15020  1424  3273 22040\n",
      "  4416  3908 10566   991  4931  1086  7430  6497   114  7896  2346  3418\n",
      "  3432  2907  1151  2414  2290 15831 41310  4508  2538  3456  6418  1848\n",
      "  3887  5721  9562  1455  2036  1831 11678  2936  2993  7443  6360  1797\n",
      "  1173  4687  6723  2009  6097  2653  1639 18481  7978  2387  5060]\n",
      " capital-loss\n",
      "[   0 2042 1408 1902 1573 1887 1719 1762 1564 2179 1816 1980 1977 1876\n",
      " 1340 2206 1741 1485 2339 2415 1380 1721 2051 2377 1669 2352 1672  653\n",
      " 2392 1504 2001 1590 1651 1628 1848 1740 2002 1579 2258 1602  419 2547\n",
      " 2174 2205 1726 2444 1138 2238  625  213 1539  880 1668 1092 1594 3004\n",
      " 2231 1844  810 2824 2559 2057 1974  974 2149 1825 1735 1258 2129 2603\n",
      " 2282  323 4356 2246 1617 1648 2489 3770 1755 3683 2267 2080 2457  155\n",
      " 3900 2201 1944 2467 2163 2754 2472 1411]\n",
      " hours-per-week\n",
      "[40 13 16 45 50 80 30 35 60 20 52 44 15 25 38 43 55 48 58 32 70  2 22 56\n",
      " 41 28 36 24 46 42 12 65  1 10 34 75 98 33 54  8  6 64 19 18 72  5  9 47\n",
      " 37 21 26 14  4 59  7 99 53 39 62 57 78 90 66 11 49 84  3 17 68 27 85 31\n",
      " 51 77 63 23 87 88 73 89 97 94 29 96 67 82 86 91 81 76 92 61 74 95]\n",
      " native-country\n",
      "[' United-States' ' Cuba' ' Jamaica' ' India' ' ?' ' Mexico' ' South'\n",
      " ' Puerto-Rico' ' Honduras' ' England' ' Canada' ' Germany' ' Iran'\n",
      " ' Philippines' ' Italy' ' Poland' ' Columbia' ' Cambodia' ' Thailand'\n",
      " ' Ecuador' ' Laos' ' Taiwan' ' Haiti' ' Portugal' ' Dominican-Republic'\n",
      " ' El-Salvador' ' France' ' Guatemala' ' China' ' Japan' ' Yugoslavia'\n",
      " ' Peru' ' Outlying-US(Guam-USVI-etc)' ' Scotland' ' Trinadad&Tobago'\n",
      " ' Greece' ' Nicaragua' ' Vietnam' ' Hong' ' Ireland' ' Hungary'\n",
      " ' Holand-Netherlands']\n",
      " income\n",
      "[' <=50K' ' >50K']\n"
     ]
    }
   ],
   "source": [
    "#income.unique()\n",
    "for i in income.columns:\n",
    "    print(i)\n",
    "    print (income[i].unique())\n",
    "    \n",
    "    \n"
   ]
  },
  {
   "cell_type": "code",
   "execution_count": 5,
   "metadata": {},
   "outputs": [
    {
     "data": {
      "text/html": [
       "<div>\n",
       "<style scoped>\n",
       "    .dataframe tbody tr th:only-of-type {\n",
       "        vertical-align: middle;\n",
       "    }\n",
       "\n",
       "    .dataframe tbody tr th {\n",
       "        vertical-align: top;\n",
       "    }\n",
       "\n",
       "    .dataframe thead th {\n",
       "        text-align: right;\n",
       "    }\n",
       "</style>\n",
       "<table border=\"1\" class=\"dataframe\">\n",
       "  <thead>\n",
       "    <tr style=\"text-align: right;\">\n",
       "      <th></th>\n",
       "      <th>age</th>\n",
       "      <th>workclass</th>\n",
       "      <th>fnlwgt</th>\n",
       "      <th>education</th>\n",
       "      <th>education-num</th>\n",
       "      <th>marital-status</th>\n",
       "      <th>occupation</th>\n",
       "      <th>relationship</th>\n",
       "      <th>race</th>\n",
       "      <th>sex</th>\n",
       "      <th>capital-gain</th>\n",
       "      <th>capital-loss</th>\n",
       "      <th>hours-per-week</th>\n",
       "      <th>native-country</th>\n",
       "      <th>income</th>\n",
       "    </tr>\n",
       "  </thead>\n",
       "  <tbody>\n",
       "    <tr>\n",
       "      <th>0</th>\n",
       "      <td>39</td>\n",
       "      <td>State-gov</td>\n",
       "      <td>77516</td>\n",
       "      <td>Bachelors</td>\n",
       "      <td>13</td>\n",
       "      <td>Never-married</td>\n",
       "      <td>Adm-clerical</td>\n",
       "      <td>Not-in-family</td>\n",
       "      <td>White</td>\n",
       "      <td>Male</td>\n",
       "      <td>2174</td>\n",
       "      <td>0</td>\n",
       "      <td>40</td>\n",
       "      <td>United-States</td>\n",
       "      <td>&lt;=50K</td>\n",
       "    </tr>\n",
       "    <tr>\n",
       "      <th>1</th>\n",
       "      <td>50</td>\n",
       "      <td>Self-emp-not-inc</td>\n",
       "      <td>83311</td>\n",
       "      <td>Bachelors</td>\n",
       "      <td>13</td>\n",
       "      <td>Married-civ-spouse</td>\n",
       "      <td>Exec-managerial</td>\n",
       "      <td>Husband</td>\n",
       "      <td>White</td>\n",
       "      <td>Male</td>\n",
       "      <td>0</td>\n",
       "      <td>0</td>\n",
       "      <td>13</td>\n",
       "      <td>United-States</td>\n",
       "      <td>&lt;=50K</td>\n",
       "    </tr>\n",
       "    <tr>\n",
       "      <th>2</th>\n",
       "      <td>38</td>\n",
       "      <td>Private</td>\n",
       "      <td>215646</td>\n",
       "      <td>HS-grad</td>\n",
       "      <td>9</td>\n",
       "      <td>Divorced</td>\n",
       "      <td>Handlers-cleaners</td>\n",
       "      <td>Not-in-family</td>\n",
       "      <td>White</td>\n",
       "      <td>Male</td>\n",
       "      <td>0</td>\n",
       "      <td>0</td>\n",
       "      <td>40</td>\n",
       "      <td>United-States</td>\n",
       "      <td>&lt;=50K</td>\n",
       "    </tr>\n",
       "    <tr>\n",
       "      <th>3</th>\n",
       "      <td>53</td>\n",
       "      <td>Private</td>\n",
       "      <td>234721</td>\n",
       "      <td>11th</td>\n",
       "      <td>7</td>\n",
       "      <td>Married-civ-spouse</td>\n",
       "      <td>Handlers-cleaners</td>\n",
       "      <td>Husband</td>\n",
       "      <td>Black</td>\n",
       "      <td>Male</td>\n",
       "      <td>0</td>\n",
       "      <td>0</td>\n",
       "      <td>40</td>\n",
       "      <td>United-States</td>\n",
       "      <td>&lt;=50K</td>\n",
       "    </tr>\n",
       "    <tr>\n",
       "      <th>4</th>\n",
       "      <td>28</td>\n",
       "      <td>Private</td>\n",
       "      <td>338409</td>\n",
       "      <td>Bachelors</td>\n",
       "      <td>13</td>\n",
       "      <td>Married-civ-spouse</td>\n",
       "      <td>Prof-specialty</td>\n",
       "      <td>Wife</td>\n",
       "      <td>Black</td>\n",
       "      <td>Female</td>\n",
       "      <td>0</td>\n",
       "      <td>0</td>\n",
       "      <td>40</td>\n",
       "      <td>Cuba</td>\n",
       "      <td>&lt;=50K</td>\n",
       "    </tr>\n",
       "  </tbody>\n",
       "</table>\n",
       "</div>"
      ],
      "text/plain": [
       "   age          workclass   fnlwgt   education   education-num  \\\n",
       "0   39          State-gov    77516   Bachelors              13   \n",
       "1   50   Self-emp-not-inc    83311   Bachelors              13   \n",
       "2   38            Private   215646     HS-grad               9   \n",
       "3   53            Private   234721        11th               7   \n",
       "4   28            Private   338409   Bachelors              13   \n",
       "\n",
       "        marital-status          occupation    relationship    race      sex  \\\n",
       "0        Never-married        Adm-clerical   Not-in-family   White     Male   \n",
       "1   Married-civ-spouse     Exec-managerial         Husband   White     Male   \n",
       "2             Divorced   Handlers-cleaners   Not-in-family   White     Male   \n",
       "3   Married-civ-spouse   Handlers-cleaners         Husband   Black     Male   \n",
       "4   Married-civ-spouse      Prof-specialty            Wife   Black   Female   \n",
       "\n",
       "    capital-gain   capital-loss   hours-per-week  native-country  income  \n",
       "0           2174              0               40   United-States   <=50K  \n",
       "1              0              0               13   United-States   <=50K  \n",
       "2              0              0               40   United-States   <=50K  \n",
       "3              0              0               40   United-States   <=50K  \n",
       "4              0              0               40            Cuba   <=50K  "
      ]
     },
     "execution_count": 5,
     "metadata": {},
     "output_type": "execute_result"
    }
   ],
   "source": [
    "income.head()"
   ]
  },
  {
   "cell_type": "code",
   "execution_count": 6,
   "metadata": {},
   "outputs": [
    {
     "data": {
      "text/plain": [
       "Index(['age', ' workclass', ' fnlwgt', ' education', ' education-num',\n",
       "       ' marital-status', ' occupation', ' relationship', ' race', ' sex',\n",
       "       ' capital-gain', ' capital-loss', ' hours-per-week', ' native-country',\n",
       "       ' income'],\n",
       "      dtype='object')"
      ]
     },
     "execution_count": 6,
     "metadata": {},
     "output_type": "execute_result"
    }
   ],
   "source": [
    "income.columns"
   ]
  },
  {
   "cell_type": "code",
   "execution_count": 7,
   "metadata": {},
   "outputs": [],
   "source": [
    "income_file=[\" workclass\",\" education\",\" marital-status\",\" occupation\",\" relationship\",\" race\",\" sex\",\" income\",\" native-country\"]"
   ]
  },
  {
   "cell_type": "code",
   "execution_count": 8,
   "metadata": {
    "scrolled": true
   },
   "outputs": [
    {
     "name": "stdout",
     "output_type": "stream",
     "text": [
      " workclass\n",
      "[' State-gov' ' Self-emp-not-inc' ' Private' ' Federal-gov' ' Local-gov'\n",
      " ' ?' ' Self-emp-inc' ' Without-pay' ' Never-worked']\n",
      " education\n",
      "[' Bachelors' ' HS-grad' ' 11th' ' Masters' ' 9th' ' Some-college'\n",
      " ' Assoc-acdm' ' Assoc-voc' ' 7th-8th' ' Doctorate' ' Prof-school'\n",
      " ' 5th-6th' ' 10th' ' 1st-4th' ' Preschool' ' 12th']\n",
      " marital-status\n",
      "[' Never-married' ' Married-civ-spouse' ' Divorced'\n",
      " ' Married-spouse-absent' ' Separated' ' Married-AF-spouse' ' Widowed']\n",
      " occupation\n",
      "[' Adm-clerical' ' Exec-managerial' ' Handlers-cleaners' ' Prof-specialty'\n",
      " ' Other-service' ' Sales' ' Craft-repair' ' Transport-moving'\n",
      " ' Farming-fishing' ' Machine-op-inspct' ' Tech-support' ' ?'\n",
      " ' Protective-serv' ' Armed-Forces' ' Priv-house-serv']\n",
      " relationship\n",
      "[' Not-in-family' ' Husband' ' Wife' ' Own-child' ' Unmarried'\n",
      " ' Other-relative']\n",
      " race\n",
      "[' White' ' Black' ' Asian-Pac-Islander' ' Amer-Indian-Eskimo' ' Other']\n",
      " sex\n",
      "[' Male' ' Female']\n",
      " income\n",
      "[' <=50K' ' >50K']\n",
      " native-country\n",
      "[' United-States' ' Cuba' ' Jamaica' ' India' ' ?' ' Mexico' ' South'\n",
      " ' Puerto-Rico' ' Honduras' ' England' ' Canada' ' Germany' ' Iran'\n",
      " ' Philippines' ' Italy' ' Poland' ' Columbia' ' Cambodia' ' Thailand'\n",
      " ' Ecuador' ' Laos' ' Taiwan' ' Haiti' ' Portugal' ' Dominican-Republic'\n",
      " ' El-Salvador' ' France' ' Guatemala' ' China' ' Japan' ' Yugoslavia'\n",
      " ' Peru' ' Outlying-US(Guam-USVI-etc)' ' Scotland' ' Trinadad&Tobago'\n",
      " ' Greece' ' Nicaragua' ' Vietnam' ' Hong' ' Ireland' ' Hungary'\n",
      " ' Holand-Netherlands']\n"
     ]
    }
   ],
   "source": [
    "for i in income_file:\n",
    "    print(i)\n",
    "    print (income[i].unique())\n",
    "    "
   ]
  },
  {
   "cell_type": "code",
   "execution_count": 9,
   "metadata": {},
   "outputs": [],
   "source": [
    "for i in income_file:\n",
    "    le=preprocessing.LabelEncoder()\n",
    "    income[i]=le.fit_transform(income[i].values)\n",
    "    \n",
    "    "
   ]
  },
  {
   "cell_type": "code",
   "execution_count": 10,
   "metadata": {},
   "outputs": [
    {
     "data": {
      "text/html": [
       "<div>\n",
       "<style scoped>\n",
       "    .dataframe tbody tr th:only-of-type {\n",
       "        vertical-align: middle;\n",
       "    }\n",
       "\n",
       "    .dataframe tbody tr th {\n",
       "        vertical-align: top;\n",
       "    }\n",
       "\n",
       "    .dataframe thead th {\n",
       "        text-align: right;\n",
       "    }\n",
       "</style>\n",
       "<table border=\"1\" class=\"dataframe\">\n",
       "  <thead>\n",
       "    <tr style=\"text-align: right;\">\n",
       "      <th></th>\n",
       "      <th>age</th>\n",
       "      <th>workclass</th>\n",
       "      <th>fnlwgt</th>\n",
       "      <th>education</th>\n",
       "      <th>education-num</th>\n",
       "      <th>marital-status</th>\n",
       "      <th>occupation</th>\n",
       "      <th>relationship</th>\n",
       "      <th>race</th>\n",
       "      <th>sex</th>\n",
       "      <th>capital-gain</th>\n",
       "      <th>capital-loss</th>\n",
       "      <th>hours-per-week</th>\n",
       "      <th>native-country</th>\n",
       "      <th>income</th>\n",
       "    </tr>\n",
       "  </thead>\n",
       "  <tbody>\n",
       "    <tr>\n",
       "      <th>0</th>\n",
       "      <td>39</td>\n",
       "      <td>7</td>\n",
       "      <td>77516</td>\n",
       "      <td>9</td>\n",
       "      <td>13</td>\n",
       "      <td>4</td>\n",
       "      <td>1</td>\n",
       "      <td>1</td>\n",
       "      <td>4</td>\n",
       "      <td>1</td>\n",
       "      <td>2174</td>\n",
       "      <td>0</td>\n",
       "      <td>40</td>\n",
       "      <td>39</td>\n",
       "      <td>0</td>\n",
       "    </tr>\n",
       "    <tr>\n",
       "      <th>1</th>\n",
       "      <td>50</td>\n",
       "      <td>6</td>\n",
       "      <td>83311</td>\n",
       "      <td>9</td>\n",
       "      <td>13</td>\n",
       "      <td>2</td>\n",
       "      <td>4</td>\n",
       "      <td>0</td>\n",
       "      <td>4</td>\n",
       "      <td>1</td>\n",
       "      <td>0</td>\n",
       "      <td>0</td>\n",
       "      <td>13</td>\n",
       "      <td>39</td>\n",
       "      <td>0</td>\n",
       "    </tr>\n",
       "    <tr>\n",
       "      <th>2</th>\n",
       "      <td>38</td>\n",
       "      <td>4</td>\n",
       "      <td>215646</td>\n",
       "      <td>11</td>\n",
       "      <td>9</td>\n",
       "      <td>0</td>\n",
       "      <td>6</td>\n",
       "      <td>1</td>\n",
       "      <td>4</td>\n",
       "      <td>1</td>\n",
       "      <td>0</td>\n",
       "      <td>0</td>\n",
       "      <td>40</td>\n",
       "      <td>39</td>\n",
       "      <td>0</td>\n",
       "    </tr>\n",
       "    <tr>\n",
       "      <th>3</th>\n",
       "      <td>53</td>\n",
       "      <td>4</td>\n",
       "      <td>234721</td>\n",
       "      <td>1</td>\n",
       "      <td>7</td>\n",
       "      <td>2</td>\n",
       "      <td>6</td>\n",
       "      <td>0</td>\n",
       "      <td>2</td>\n",
       "      <td>1</td>\n",
       "      <td>0</td>\n",
       "      <td>0</td>\n",
       "      <td>40</td>\n",
       "      <td>39</td>\n",
       "      <td>0</td>\n",
       "    </tr>\n",
       "    <tr>\n",
       "      <th>4</th>\n",
       "      <td>28</td>\n",
       "      <td>4</td>\n",
       "      <td>338409</td>\n",
       "      <td>9</td>\n",
       "      <td>13</td>\n",
       "      <td>2</td>\n",
       "      <td>10</td>\n",
       "      <td>5</td>\n",
       "      <td>2</td>\n",
       "      <td>0</td>\n",
       "      <td>0</td>\n",
       "      <td>0</td>\n",
       "      <td>40</td>\n",
       "      <td>5</td>\n",
       "      <td>0</td>\n",
       "    </tr>\n",
       "  </tbody>\n",
       "</table>\n",
       "</div>"
      ],
      "text/plain": [
       "   age   workclass   fnlwgt   education   education-num   marital-status  \\\n",
       "0   39           7    77516           9              13                4   \n",
       "1   50           6    83311           9              13                2   \n",
       "2   38           4   215646          11               9                0   \n",
       "3   53           4   234721           1               7                2   \n",
       "4   28           4   338409           9              13                2   \n",
       "\n",
       "    occupation   relationship   race   sex   capital-gain   capital-loss  \\\n",
       "0            1              1      4     1           2174              0   \n",
       "1            4              0      4     1              0              0   \n",
       "2            6              1      4     1              0              0   \n",
       "3            6              0      2     1              0              0   \n",
       "4           10              5      2     0              0              0   \n",
       "\n",
       "    hours-per-week   native-country   income  \n",
       "0               40               39        0  \n",
       "1               13               39        0  \n",
       "2               40               39        0  \n",
       "3               40               39        0  \n",
       "4               40                5        0  "
      ]
     },
     "execution_count": 10,
     "metadata": {},
     "output_type": "execute_result"
    }
   ],
   "source": [
    "income.head()"
   ]
  },
  {
   "cell_type": "code",
   "execution_count": 11,
   "metadata": {
    "scrolled": true
   },
   "outputs": [
    {
     "data": {
      "text/html": [
       "<div>\n",
       "<style scoped>\n",
       "    .dataframe tbody tr th:only-of-type {\n",
       "        vertical-align: middle;\n",
       "    }\n",
       "\n",
       "    .dataframe tbody tr th {\n",
       "        vertical-align: top;\n",
       "    }\n",
       "\n",
       "    .dataframe thead th {\n",
       "        text-align: right;\n",
       "    }\n",
       "</style>\n",
       "<table border=\"1\" class=\"dataframe\">\n",
       "  <thead>\n",
       "    <tr style=\"text-align: right;\">\n",
       "      <th></th>\n",
       "      <th>age</th>\n",
       "      <th>workclass</th>\n",
       "      <th>fnlwgt</th>\n",
       "      <th>education</th>\n",
       "      <th>education-num</th>\n",
       "      <th>marital-status</th>\n",
       "      <th>occupation</th>\n",
       "      <th>relationship</th>\n",
       "      <th>race</th>\n",
       "      <th>sex</th>\n",
       "      <th>capital-gain</th>\n",
       "      <th>capital-loss</th>\n",
       "      <th>hours-per-week</th>\n",
       "      <th>native-country</th>\n",
       "      <th>income</th>\n",
       "    </tr>\n",
       "  </thead>\n",
       "  <tbody>\n",
       "    <tr>\n",
       "      <th>age</th>\n",
       "      <td>1.000000</td>\n",
       "      <td>0.003787</td>\n",
       "      <td>-0.076646</td>\n",
       "      <td>-0.010508</td>\n",
       "      <td>0.036527</td>\n",
       "      <td>-0.266288</td>\n",
       "      <td>-0.020947</td>\n",
       "      <td>-0.263698</td>\n",
       "      <td>0.028718</td>\n",
       "      <td>0.088832</td>\n",
       "      <td>0.077674</td>\n",
       "      <td>0.057775</td>\n",
       "      <td>0.068756</td>\n",
       "      <td>-0.001151</td>\n",
       "      <td>0.234037</td>\n",
       "    </tr>\n",
       "    <tr>\n",
       "      <th>workclass</th>\n",
       "      <td>0.003787</td>\n",
       "      <td>1.000000</td>\n",
       "      <td>-0.016656</td>\n",
       "      <td>0.023513</td>\n",
       "      <td>0.052085</td>\n",
       "      <td>-0.064731</td>\n",
       "      <td>0.254892</td>\n",
       "      <td>-0.090461</td>\n",
       "      <td>0.049742</td>\n",
       "      <td>0.095981</td>\n",
       "      <td>0.033835</td>\n",
       "      <td>0.012216</td>\n",
       "      <td>0.138962</td>\n",
       "      <td>-0.007690</td>\n",
       "      <td>0.051604</td>\n",
       "    </tr>\n",
       "    <tr>\n",
       "      <th>fnlwgt</th>\n",
       "      <td>-0.076646</td>\n",
       "      <td>-0.016656</td>\n",
       "      <td>1.000000</td>\n",
       "      <td>-0.028145</td>\n",
       "      <td>-0.043195</td>\n",
       "      <td>0.028153</td>\n",
       "      <td>0.001597</td>\n",
       "      <td>0.008931</td>\n",
       "      <td>-0.021291</td>\n",
       "      <td>0.026858</td>\n",
       "      <td>0.000432</td>\n",
       "      <td>-0.010252</td>\n",
       "      <td>-0.018768</td>\n",
       "      <td>-0.051966</td>\n",
       "      <td>-0.009463</td>\n",
       "    </tr>\n",
       "    <tr>\n",
       "      <th>education</th>\n",
       "      <td>-0.010508</td>\n",
       "      <td>0.023513</td>\n",
       "      <td>-0.028145</td>\n",
       "      <td>1.000000</td>\n",
       "      <td>0.359153</td>\n",
       "      <td>-0.038407</td>\n",
       "      <td>-0.021260</td>\n",
       "      <td>-0.010876</td>\n",
       "      <td>0.014131</td>\n",
       "      <td>-0.027356</td>\n",
       "      <td>0.030046</td>\n",
       "      <td>0.016746</td>\n",
       "      <td>0.055510</td>\n",
       "      <td>0.064288</td>\n",
       "      <td>0.079317</td>\n",
       "    </tr>\n",
       "    <tr>\n",
       "      <th>education-num</th>\n",
       "      <td>0.036527</td>\n",
       "      <td>0.052085</td>\n",
       "      <td>-0.043195</td>\n",
       "      <td>0.359153</td>\n",
       "      <td>1.000000</td>\n",
       "      <td>-0.069304</td>\n",
       "      <td>0.109697</td>\n",
       "      <td>-0.094153</td>\n",
       "      <td>0.031838</td>\n",
       "      <td>0.012280</td>\n",
       "      <td>0.122630</td>\n",
       "      <td>0.079923</td>\n",
       "      <td>0.148123</td>\n",
       "      <td>0.050840</td>\n",
       "      <td>0.335154</td>\n",
       "    </tr>\n",
       "    <tr>\n",
       "      <th>marital-status</th>\n",
       "      <td>-0.266288</td>\n",
       "      <td>-0.064731</td>\n",
       "      <td>0.028153</td>\n",
       "      <td>-0.038407</td>\n",
       "      <td>-0.069304</td>\n",
       "      <td>1.000000</td>\n",
       "      <td>-0.009654</td>\n",
       "      <td>0.185451</td>\n",
       "      <td>-0.068013</td>\n",
       "      <td>-0.129314</td>\n",
       "      <td>-0.043393</td>\n",
       "      <td>-0.034187</td>\n",
       "      <td>-0.190519</td>\n",
       "      <td>-0.023819</td>\n",
       "      <td>-0.199307</td>\n",
       "    </tr>\n",
       "    <tr>\n",
       "      <th>occupation</th>\n",
       "      <td>-0.020947</td>\n",
       "      <td>0.254892</td>\n",
       "      <td>0.001597</td>\n",
       "      <td>-0.021260</td>\n",
       "      <td>0.109697</td>\n",
       "      <td>-0.009654</td>\n",
       "      <td>1.000000</td>\n",
       "      <td>-0.075607</td>\n",
       "      <td>0.006763</td>\n",
       "      <td>0.080296</td>\n",
       "      <td>0.025505</td>\n",
       "      <td>0.017987</td>\n",
       "      <td>0.080383</td>\n",
       "      <td>-0.012543</td>\n",
       "      <td>0.075468</td>\n",
       "    </tr>\n",
       "    <tr>\n",
       "      <th>relationship</th>\n",
       "      <td>-0.263698</td>\n",
       "      <td>-0.090461</td>\n",
       "      <td>0.008931</td>\n",
       "      <td>-0.010876</td>\n",
       "      <td>-0.094153</td>\n",
       "      <td>0.185451</td>\n",
       "      <td>-0.075607</td>\n",
       "      <td>1.000000</td>\n",
       "      <td>-0.116055</td>\n",
       "      <td>-0.582454</td>\n",
       "      <td>-0.057919</td>\n",
       "      <td>-0.061062</td>\n",
       "      <td>-0.248974</td>\n",
       "      <td>-0.005507</td>\n",
       "      <td>-0.250918</td>\n",
       "    </tr>\n",
       "    <tr>\n",
       "      <th>race</th>\n",
       "      <td>0.028718</td>\n",
       "      <td>0.049742</td>\n",
       "      <td>-0.021291</td>\n",
       "      <td>0.014131</td>\n",
       "      <td>0.031838</td>\n",
       "      <td>-0.068013</td>\n",
       "      <td>0.006763</td>\n",
       "      <td>-0.116055</td>\n",
       "      <td>1.000000</td>\n",
       "      <td>0.087204</td>\n",
       "      <td>0.011145</td>\n",
       "      <td>0.018899</td>\n",
       "      <td>0.041910</td>\n",
       "      <td>0.137852</td>\n",
       "      <td>0.071846</td>\n",
       "    </tr>\n",
       "    <tr>\n",
       "      <th>sex</th>\n",
       "      <td>0.088832</td>\n",
       "      <td>0.095981</td>\n",
       "      <td>0.026858</td>\n",
       "      <td>-0.027356</td>\n",
       "      <td>0.012280</td>\n",
       "      <td>-0.129314</td>\n",
       "      <td>0.080296</td>\n",
       "      <td>-0.582454</td>\n",
       "      <td>0.087204</td>\n",
       "      <td>1.000000</td>\n",
       "      <td>0.048480</td>\n",
       "      <td>0.045567</td>\n",
       "      <td>0.229309</td>\n",
       "      <td>-0.008119</td>\n",
       "      <td>0.215980</td>\n",
       "    </tr>\n",
       "    <tr>\n",
       "      <th>capital-gain</th>\n",
       "      <td>0.077674</td>\n",
       "      <td>0.033835</td>\n",
       "      <td>0.000432</td>\n",
       "      <td>0.030046</td>\n",
       "      <td>0.122630</td>\n",
       "      <td>-0.043393</td>\n",
       "      <td>0.025505</td>\n",
       "      <td>-0.057919</td>\n",
       "      <td>0.011145</td>\n",
       "      <td>0.048480</td>\n",
       "      <td>1.000000</td>\n",
       "      <td>-0.031615</td>\n",
       "      <td>0.078409</td>\n",
       "      <td>-0.001982</td>\n",
       "      <td>0.223329</td>\n",
       "    </tr>\n",
       "    <tr>\n",
       "      <th>capital-loss</th>\n",
       "      <td>0.057775</td>\n",
       "      <td>0.012216</td>\n",
       "      <td>-0.010252</td>\n",
       "      <td>0.016746</td>\n",
       "      <td>0.079923</td>\n",
       "      <td>-0.034187</td>\n",
       "      <td>0.017987</td>\n",
       "      <td>-0.061062</td>\n",
       "      <td>0.018899</td>\n",
       "      <td>0.045567</td>\n",
       "      <td>-0.031615</td>\n",
       "      <td>1.000000</td>\n",
       "      <td>0.054256</td>\n",
       "      <td>0.000419</td>\n",
       "      <td>0.150526</td>\n",
       "    </tr>\n",
       "    <tr>\n",
       "      <th>hours-per-week</th>\n",
       "      <td>0.068756</td>\n",
       "      <td>0.138962</td>\n",
       "      <td>-0.018768</td>\n",
       "      <td>0.055510</td>\n",
       "      <td>0.148123</td>\n",
       "      <td>-0.190519</td>\n",
       "      <td>0.080383</td>\n",
       "      <td>-0.248974</td>\n",
       "      <td>0.041910</td>\n",
       "      <td>0.229309</td>\n",
       "      <td>0.078409</td>\n",
       "      <td>0.054256</td>\n",
       "      <td>1.000000</td>\n",
       "      <td>-0.002671</td>\n",
       "      <td>0.229689</td>\n",
       "    </tr>\n",
       "    <tr>\n",
       "      <th>native-country</th>\n",
       "      <td>-0.001151</td>\n",
       "      <td>-0.007690</td>\n",
       "      <td>-0.051966</td>\n",
       "      <td>0.064288</td>\n",
       "      <td>0.050840</td>\n",
       "      <td>-0.023819</td>\n",
       "      <td>-0.012543</td>\n",
       "      <td>-0.005507</td>\n",
       "      <td>0.137852</td>\n",
       "      <td>-0.008119</td>\n",
       "      <td>-0.001982</td>\n",
       "      <td>0.000419</td>\n",
       "      <td>-0.002671</td>\n",
       "      <td>1.000000</td>\n",
       "      <td>0.015840</td>\n",
       "    </tr>\n",
       "    <tr>\n",
       "      <th>income</th>\n",
       "      <td>0.234037</td>\n",
       "      <td>0.051604</td>\n",
       "      <td>-0.009463</td>\n",
       "      <td>0.079317</td>\n",
       "      <td>0.335154</td>\n",
       "      <td>-0.199307</td>\n",
       "      <td>0.075468</td>\n",
       "      <td>-0.250918</td>\n",
       "      <td>0.071846</td>\n",
       "      <td>0.215980</td>\n",
       "      <td>0.223329</td>\n",
       "      <td>0.150526</td>\n",
       "      <td>0.229689</td>\n",
       "      <td>0.015840</td>\n",
       "      <td>1.000000</td>\n",
       "    </tr>\n",
       "  </tbody>\n",
       "</table>\n",
       "</div>"
      ],
      "text/plain": [
       "                      age   workclass    fnlwgt   education   education-num  \\\n",
       "age              1.000000    0.003787 -0.076646   -0.010508        0.036527   \n",
       " workclass       0.003787    1.000000 -0.016656    0.023513        0.052085   \n",
       " fnlwgt         -0.076646   -0.016656  1.000000   -0.028145       -0.043195   \n",
       " education      -0.010508    0.023513 -0.028145    1.000000        0.359153   \n",
       " education-num   0.036527    0.052085 -0.043195    0.359153        1.000000   \n",
       " marital-status -0.266288   -0.064731  0.028153   -0.038407       -0.069304   \n",
       " occupation     -0.020947    0.254892  0.001597   -0.021260        0.109697   \n",
       " relationship   -0.263698   -0.090461  0.008931   -0.010876       -0.094153   \n",
       " race            0.028718    0.049742 -0.021291    0.014131        0.031838   \n",
       " sex             0.088832    0.095981  0.026858   -0.027356        0.012280   \n",
       " capital-gain    0.077674    0.033835  0.000432    0.030046        0.122630   \n",
       " capital-loss    0.057775    0.012216 -0.010252    0.016746        0.079923   \n",
       " hours-per-week  0.068756    0.138962 -0.018768    0.055510        0.148123   \n",
       " native-country -0.001151   -0.007690 -0.051966    0.064288        0.050840   \n",
       " income          0.234037    0.051604 -0.009463    0.079317        0.335154   \n",
       "\n",
       "                  marital-status   occupation   relationship      race  \\\n",
       "age                    -0.266288    -0.020947      -0.263698  0.028718   \n",
       " workclass             -0.064731     0.254892      -0.090461  0.049742   \n",
       " fnlwgt                 0.028153     0.001597       0.008931 -0.021291   \n",
       " education             -0.038407    -0.021260      -0.010876  0.014131   \n",
       " education-num         -0.069304     0.109697      -0.094153  0.031838   \n",
       " marital-status         1.000000    -0.009654       0.185451 -0.068013   \n",
       " occupation            -0.009654     1.000000      -0.075607  0.006763   \n",
       " relationship           0.185451    -0.075607       1.000000 -0.116055   \n",
       " race                  -0.068013     0.006763      -0.116055  1.000000   \n",
       " sex                   -0.129314     0.080296      -0.582454  0.087204   \n",
       " capital-gain          -0.043393     0.025505      -0.057919  0.011145   \n",
       " capital-loss          -0.034187     0.017987      -0.061062  0.018899   \n",
       " hours-per-week        -0.190519     0.080383      -0.248974  0.041910   \n",
       " native-country        -0.023819    -0.012543      -0.005507  0.137852   \n",
       " income                -0.199307     0.075468      -0.250918  0.071846   \n",
       "\n",
       "                      sex   capital-gain   capital-loss   hours-per-week  \\\n",
       "age              0.088832       0.077674       0.057775         0.068756   \n",
       " workclass       0.095981       0.033835       0.012216         0.138962   \n",
       " fnlwgt          0.026858       0.000432      -0.010252        -0.018768   \n",
       " education      -0.027356       0.030046       0.016746         0.055510   \n",
       " education-num   0.012280       0.122630       0.079923         0.148123   \n",
       " marital-status -0.129314      -0.043393      -0.034187        -0.190519   \n",
       " occupation      0.080296       0.025505       0.017987         0.080383   \n",
       " relationship   -0.582454      -0.057919      -0.061062        -0.248974   \n",
       " race            0.087204       0.011145       0.018899         0.041910   \n",
       " sex             1.000000       0.048480       0.045567         0.229309   \n",
       " capital-gain    0.048480       1.000000      -0.031615         0.078409   \n",
       " capital-loss    0.045567      -0.031615       1.000000         0.054256   \n",
       " hours-per-week  0.229309       0.078409       0.054256         1.000000   \n",
       " native-country -0.008119      -0.001982       0.000419        -0.002671   \n",
       " income          0.215980       0.223329       0.150526         0.229689   \n",
       "\n",
       "                  native-country    income  \n",
       "age                    -0.001151  0.234037  \n",
       " workclass             -0.007690  0.051604  \n",
       " fnlwgt                -0.051966 -0.009463  \n",
       " education              0.064288  0.079317  \n",
       " education-num          0.050840  0.335154  \n",
       " marital-status        -0.023819 -0.199307  \n",
       " occupation            -0.012543  0.075468  \n",
       " relationship          -0.005507 -0.250918  \n",
       " race                   0.137852  0.071846  \n",
       " sex                   -0.008119  0.215980  \n",
       " capital-gain          -0.001982  0.223329  \n",
       " capital-loss           0.000419  0.150526  \n",
       " hours-per-week        -0.002671  0.229689  \n",
       " native-country         1.000000  0.015840  \n",
       " income                 0.015840  1.000000  "
      ]
     },
     "execution_count": 11,
     "metadata": {},
     "output_type": "execute_result"
    }
   ],
   "source": [
    "income.corr()"
   ]
  },
  {
   "cell_type": "code",
   "execution_count": 12,
   "metadata": {},
   "outputs": [],
   "source": [
    "#income.drop([\" fnlwgt\",\" workclass\",\" education\",\" occupation\",\" race\",\" native-country\"],axis=1)\n"
   ]
  },
  {
   "cell_type": "code",
   "execution_count": 13,
   "metadata": {},
   "outputs": [
    {
     "data": {
      "text/plain": [
       "<matplotlib.axes._subplots.AxesSubplot at 0x1a4a38cbac0>"
      ]
     },
     "execution_count": 13,
     "metadata": {},
     "output_type": "execute_result"
    },
    {
     "data": {
      "image/png": "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\n",
      "text/plain": [
       "<Figure size 432x288 with 2 Axes>"
      ]
     },
     "metadata": {
      "needs_background": "light"
     },
     "output_type": "display_data"
    }
   ],
   "source": [
    "sns.heatmap(income.corr(),cmap=\"Blues\")"
   ]
  },
  {
   "cell_type": "code",
   "execution_count": null,
   "metadata": {},
   "outputs": [],
   "source": []
  },
  {
   "cell_type": "code",
   "execution_count": 14,
   "metadata": {},
   "outputs": [
    {
     "data": {
      "text/plain": [
       "<matplotlib.axes._subplots.AxesSubplot at 0x1a4a4612a60>"
      ]
     },
     "execution_count": 14,
     "metadata": {},
     "output_type": "execute_result"
    },
    {
     "data": {
      "image/png": "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\n",
      "text/plain": [
       "<Figure size 432x288 with 1 Axes>"
      ]
     },
     "metadata": {
      "needs_background": "light"
     },
     "output_type": "display_data"
    }
   ],
   "source": [
    "sns.heatmap(income.isnull(),yticklabels=False,cbar=False,cmap='Dark2_r')"
   ]
  },
  {
   "cell_type": "code",
   "execution_count": 15,
   "metadata": {},
   "outputs": [
    {
     "data": {
      "text/plain": [
       "<function matplotlib.pyplot.show(*args, **kw)>"
      ]
     },
     "execution_count": 15,
     "metadata": {},
     "output_type": "execute_result"
    },
    {
     "data": {
      "image/png": "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\n",
      "text/plain": [
       "<Figure size 1080x1080 with 1 Axes>"
      ]
     },
     "metadata": {
      "needs_background": "light"
     },
     "output_type": "display_data"
    }
   ],
   "source": [
    "plt.figure(figsize=(15,15))\n",
    "sns.set_style('darkgrid')\n",
    "sns.countplot(x=' hours-per-week',hue=' income',data=income,palette='Dark2')\n",
    "degrees=90\n",
    "plt.xticks(rotation=degrees)\n",
    "plt.show"
   ]
  },
  {
   "cell_type": "code",
   "execution_count": 16,
   "metadata": {},
   "outputs": [
    {
     "data": {
      "text/plain": [
       "Text(0.5, 1.0, 'income_distribition_acording_to_pclass')"
      ]
     },
     "execution_count": 16,
     "metadata": {},
     "output_type": "execute_result"
    },
    {
     "data": {
      "image/png": "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\n",
      "text/plain": [
       "<Figure size 864x504 with 1 Axes>"
      ]
     },
     "metadata": {},
     "output_type": "display_data"
    }
   ],
   "source": [
    "plt.figure(figsize=(12, 7))\n",
    "sns.set_style('darkgrid')\n",
    "sns.boxplot(x=' income',y=' hours-per-week',data=income,palette='Dark2').set_title('income_distribition_acording_to_pclass')"
   ]
  },
  {
   "cell_type": "code",
   "execution_count": 17,
   "metadata": {},
   "outputs": [],
   "source": [
    "X_train, X_test, y_train, y_test = train_test_split(income.drop(' income',axis=1), \n",
    "           income[' income'], test_size=0.30, \n",
    "            random_state=101)"
   ]
  },
  {
   "cell_type": "code",
   "execution_count": null,
   "metadata": {},
   "outputs": [],
   "source": [
    "#Logistic Regression"
   ]
  },
  {
   "cell_type": "code",
   "execution_count": 18,
   "metadata": {},
   "outputs": [
    {
     "data": {
      "text/plain": [
       "LogisticRegression(max_iter=100000)"
      ]
     },
     "execution_count": 18,
     "metadata": {},
     "output_type": "execute_result"
    }
   ],
   "source": [
    "from sklearn.linear_model import LogisticRegression #create an instance and fit the model \n",
    "logmodel = LogisticRegression(max_iter = 100000)\n",
    "logmodel.fit(X_train, y_train)"
   ]
  },
  {
   "cell_type": "code",
   "execution_count": 19,
   "metadata": {},
   "outputs": [],
   "source": [
    "predictions = logmodel.predict(X_test)"
   ]
  },
  {
   "cell_type": "code",
   "execution_count": 20,
   "metadata": {},
   "outputs": [
    {
     "data": {
      "text/plain": [
       "array([0, 0, 0, ..., 0, 0, 0])"
      ]
     },
     "execution_count": 20,
     "metadata": {},
     "output_type": "execute_result"
    }
   ],
   "source": [
    "predictions"
   ]
  },
  {
   "cell_type": "code",
   "execution_count": 21,
   "metadata": {},
   "outputs": [
    {
     "name": "stdout",
     "output_type": "stream",
     "text": [
      "              precision    recall  f1-score   support\n",
      "\n",
      "           0       0.81      0.97      0.88      7436\n",
      "           1       0.75      0.28      0.41      2333\n",
      "\n",
      "    accuracy                           0.81      9769\n",
      "   macro avg       0.78      0.63      0.65      9769\n",
      "weighted avg       0.80      0.81      0.77      9769\n",
      "\n"
     ]
    }
   ],
   "source": [
    "from sklearn.metrics import classification_report\n",
    "print(classification_report(y_test,predictions))"
   ]
  },
  {
   "cell_type": "code",
   "execution_count": 22,
   "metadata": {},
   "outputs": [
    {
     "name": "stdout",
     "output_type": "stream",
     "text": [
      "[[7215  221]\n",
      " [1669  664]]\n"
     ]
    }
   ],
   "source": [
    "from sklearn.metrics import confusion_matrix\n",
    "print(confusion_matrix(y_test, predictions))"
   ]
  },
  {
   "cell_type": "code",
   "execution_count": 23,
   "metadata": {},
   "outputs": [
    {
     "data": {
      "text/plain": [
       "0.6274459038603917"
      ]
     },
     "execution_count": 23,
     "metadata": {},
     "output_type": "execute_result"
    }
   ],
   "source": [
    "from sklearn.metrics import roc_auc_score\n",
    "from sklearn.metrics import roc_curve #https://scikit-learn.org/stable/modules/model_evaluation.html -> for acc metrics\n",
    "roc_auc_score(y_test,predictions)"
   ]
  },
  {
   "cell_type": "code",
   "execution_count": 24,
   "metadata": {},
   "outputs": [
    {
     "data": {
      "image/png": "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\n",
      "text/plain": [
       "<Figure size 720x360 with 1 Axes>"
      ]
     },
     "metadata": {},
     "output_type": "display_data"
    }
   ],
   "source": [
    "from sklearn.metrics import roc_auc_score\n",
    "from sklearn.metrics import roc_curve\n",
    "logit_roc_auc = roc_auc_score(y_test, logmodel.predict(X_test))\n",
    "fpr, tpr, thresholds = roc_curve(y_test, logmodel.predict_proba(X_test)[:,1])\n",
    "plt.figure(figsize=(10,5))\n",
    "plt.plot(fpr, tpr, label='Logistic Regression (area = %0.2f)' % logit_roc_auc)\n",
    "plt.plot([0, 1], [0, 1],'r--')\n",
    "plt.xlim([0.0, 1.0])\n",
    "plt.ylim([0.0, 1.05])\n",
    "plt.xlabel('False Positive Rate')\n",
    "plt.ylabel('True Positive Rate')\n",
    "plt.title('Survived or Not')\n",
    "plt.legend(loc=\"lower right\")\n",
    "plt.savefig('Log_ROC')\n",
    "plt.show()"
   ]
  },
  {
   "cell_type": "code",
   "execution_count": 25,
   "metadata": {},
   "outputs": [],
   "source": [
    "#Naive Bayes"
   ]
  },
  {
   "cell_type": "code",
   "execution_count": 26,
   "metadata": {},
   "outputs": [],
   "source": [
    "from sklearn.naive_bayes import GaussianNB"
   ]
  },
  {
   "cell_type": "code",
   "execution_count": 27,
   "metadata": {},
   "outputs": [
    {
     "data": {
      "text/plain": [
       "GaussianNB()"
      ]
     },
     "execution_count": 27,
     "metadata": {},
     "output_type": "execute_result"
    }
   ],
   "source": [
    "NBmodel = GaussianNB()\n",
    "NBmodel.fit(X_train, y_train)"
   ]
  },
  {
   "cell_type": "code",
   "execution_count": 28,
   "metadata": {},
   "outputs": [],
   "source": [
    "predicted = NBmodel.predict(X_test)"
   ]
  },
  {
   "cell_type": "code",
   "execution_count": 29,
   "metadata": {},
   "outputs": [
    {
     "data": {
      "text/plain": [
       "array([0, 0, 0, ..., 0, 0, 0])"
      ]
     },
     "execution_count": 29,
     "metadata": {},
     "output_type": "execute_result"
    }
   ],
   "source": [
    "predicted"
   ]
  },
  {
   "cell_type": "code",
   "execution_count": 30,
   "metadata": {},
   "outputs": [],
   "source": [
    "from sklearn.metrics import confusion_matrix\n",
    "from sklearn.metrics import classification_report\n",
    "from sklearn.metrics import accuracy_score"
   ]
  },
  {
   "cell_type": "code",
   "execution_count": 31,
   "metadata": {},
   "outputs": [],
   "source": [
    "cm2 = confusion_matrix(y_test,predicted)\n",
    "score2 = accuracy_score(y_test,predicted)\n",
    "cr2 = classification_report(y_test,predicted)\n",
    "auc2 = roc_auc_score(y_test,predicted)"
   ]
  },
  {
   "cell_type": "code",
   "execution_count": 32,
   "metadata": {},
   "outputs": [
    {
     "name": "stdout",
     "output_type": "stream",
     "text": [
      "Confusion Matrix for Naive Bayes:\n",
      " [[7081  355]\n",
      " [1576  757]]\n"
     ]
    }
   ],
   "source": [
    "print('Confusion Matrix for Naive Bayes:''\\n',cm2 )"
   ]
  },
  {
   "cell_type": "code",
   "execution_count": 33,
   "metadata": {},
   "outputs": [
    {
     "name": "stdout",
     "output_type": "stream",
     "text": [
      "Accuracy Score for Naive Bayes: 0.8023339133995291\n"
     ]
    }
   ],
   "source": [
    "print('Accuracy Score for Naive Bayes:',score2 )"
   ]
  },
  {
   "cell_type": "code",
   "execution_count": 34,
   "metadata": {},
   "outputs": [
    {
     "name": "stdout",
     "output_type": "stream",
     "text": [
      "Classification Report for Naive Bayes:\n",
      "\n",
      "               precision    recall  f1-score   support\n",
      "\n",
      "           0       0.82      0.95      0.88      7436\n",
      "           1       0.68      0.32      0.44      2333\n",
      "\n",
      "    accuracy                           0.80      9769\n",
      "   macro avg       0.75      0.64      0.66      9769\n",
      "weighted avg       0.79      0.80      0.77      9769\n",
      "\n"
     ]
    }
   ],
   "source": [
    "print('Classification Report for Naive Bayes:''\\n''\\n',cr2)"
   ]
  },
  {
   "cell_type": "code",
   "execution_count": 35,
   "metadata": {},
   "outputs": [
    {
     "name": "stdout",
     "output_type": "stream",
     "text": [
      "Auc Score for Naive Bayes: 0.6383671020858201\n"
     ]
    }
   ],
   "source": [
    "print('Auc Score for Naive Bayes:',auc2 )"
   ]
  },
  {
   "cell_type": "code",
   "execution_count": 36,
   "metadata": {},
   "outputs": [
    {
     "data": {
      "image/png": "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\n",
      "text/plain": [
       "<Figure size 720x360 with 1 Axes>"
      ]
     },
     "metadata": {},
     "output_type": "display_data"
    }
   ],
   "source": [
    "from sklearn.metrics import roc_auc_score\n",
    "from sklearn.metrics import roc_curve\n",
    "logit_roc_auc = roc_auc_score(y_test, NBmodel.predict(X_test))\n",
    "fpr, tpr, thresholds = roc_curve(y_test, NBmodel.predict_proba(X_test)[:,1])\n",
    "plt.figure(figsize=(10,5))\n",
    "plt.plot(fpr, tpr, label='Naive Bayes (area = %0.2f)' % logit_roc_auc)\n",
    "plt.plot([0, 1], [0, 1],'r--')\n",
    "plt.xlim([0.0, 1.0])\n",
    "plt.ylim([0.0, 1.05])\n",
    "plt.xlabel('False Positive Rate')\n",
    "plt.ylabel('True Positive Rate')\n",
    "plt.title('Survived or Not')\n",
    "plt.legend(loc=\"lower right\")\n",
    "plt.savefig('NB_ROC')\n",
    "plt.show()"
   ]
  },
  {
   "cell_type": "code",
   "execution_count": 37,
   "metadata": {},
   "outputs": [],
   "source": [
    "#SVM"
   ]
  },
  {
   "cell_type": "code",
   "execution_count": 38,
   "metadata": {},
   "outputs": [],
   "source": [
    "#Import svm model\n",
    "#from sklearn import svm\n",
    "\n",
    "#Create a svm Classifier\n",
    "#clf = svm.SVC(kernel='poly', probability=True) # Linear Kernel\n",
    "\n",
    "#Train the model using the training sets\n",
    "#clf.fit(X_train, y_train)\n",
    "\n",
    "#Predict the response for test dataset\n",
    "#y_pred = clf.predict(X_test)"
   ]
  },
  {
   "cell_type": "code",
   "execution_count": 39,
   "metadata": {},
   "outputs": [],
   "source": [
    "#y_pred"
   ]
  },
  {
   "cell_type": "code",
   "execution_count": 40,
   "metadata": {},
   "outputs": [],
   "source": [
    "#y_test"
   ]
  },
  {
   "cell_type": "code",
   "execution_count": 43,
   "metadata": {},
   "outputs": [],
   "source": [
    "#Import scikit-learn metrics module for accuracy calculation\n",
    "#from sklearn import metrics\n",
    "\n",
    "# Model Accuracy: how often is the classifier correct?\n",
    "#print(\"Accuracy:\",metrics.accuracy_score(y_test, y_pred))"
   ]
  },
  {
   "cell_type": "code",
   "execution_count": null,
   "metadata": {},
   "outputs": [],
   "source": [
    "# Model Precision: what percentage of positive tuples are labeled as such?\n",
    "#print(\"Precision:\",metrics.precision_score(y_test, y_pred))\n",
    "\n",
    "# Model Recall: what percentage of positive tuples are labelled as such?\n",
    "#print(\"Recall:\",metrics.recall_score(y_test, y_pred))"
   ]
  },
  {
   "cell_type": "code",
   "execution_count": null,
   "metadata": {},
   "outputs": [],
   "source": [
    "#print(\"Classification Report for SVM:\"\"\\n\",classification_report(y_test, y_pred))"
   ]
  },
  {
   "cell_type": "code",
   "execution_count": null,
   "metadata": {},
   "outputs": [],
   "source": [
    "#cm3 = confusion_matrix(y_test,y_pred)\n",
    "#score3 = accuracy_score(y_test,y_pred)\n",
    "#cr3 = classification_report(y_test,y_pred)\n",
    "#auc3 = roc_auc_score(y_test,y_pred)"
   ]
  },
  {
   "cell_type": "code",
   "execution_count": null,
   "metadata": {},
   "outputs": [],
   "source": [
    "#print('Confusion Matrix for SVM:''\\n',cm3 )"
   ]
  },
  {
   "cell_type": "code",
   "execution_count": null,
   "metadata": {},
   "outputs": [],
   "source": [
    "#print('Accuracy Score for SVM:',score3 )"
   ]
  },
  {
   "cell_type": "code",
   "execution_count": null,
   "metadata": {},
   "outputs": [],
   "source": [
    "#print('Auc Score for svm:',auc3 )"
   ]
  },
  {
   "cell_type": "code",
   "execution_count": null,
   "metadata": {},
   "outputs": [],
   "source": [
    "#Decision Tree"
   ]
  },
  {
   "cell_type": "code",
   "execution_count": 44,
   "metadata": {},
   "outputs": [],
   "source": [
    "# Load libraries\n",
    "from sklearn.tree import DecisionTreeClassifier # Import Decision Tree Classifier\n",
    "from sklearn.model_selection import train_test_split # Import train_test_split function\n",
    "from sklearn import metrics #Import scikit-learn metrics module for accuracy calculation"
   ]
  },
  {
   "cell_type": "code",
   "execution_count": 45,
   "metadata": {},
   "outputs": [],
   "source": [
    "# Create Decision Tree classifer object\n",
    "clf = DecisionTreeClassifier()\n",
    "\n",
    "# Train Decision Tree Classifer\n",
    "clf = clf.fit(X_train,y_train)\n",
    "\n",
    "#Predict the response for test dataset\n",
    "y_pred = clf.predict(X_test)"
   ]
  },
  {
   "cell_type": "code",
   "execution_count": 48,
   "metadata": {},
   "outputs": [
    {
     "name": "stdout",
     "output_type": "stream",
     "text": [
      "Accuracy: 0.8123656464325929\n"
     ]
    }
   ],
   "source": [
    "print(\"Accuracy:\",metrics.accuracy_score(y_test, y_pred))"
   ]
  },
  {
   "cell_type": "code",
   "execution_count": 50,
   "metadata": {},
   "outputs": [
    {
     "name": "stdout",
     "output_type": "stream",
     "text": [
      "Classification Report for Decision Tree:\n",
      "               precision    recall  f1-score   support\n",
      "\n",
      "           0       0.88      0.87      0.88      7436\n",
      "           1       0.60      0.63      0.62      2333\n",
      "\n",
      "    accuracy                           0.81      9769\n",
      "   macro avg       0.74      0.75      0.75      9769\n",
      "weighted avg       0.82      0.81      0.81      9769\n",
      "\n"
     ]
    }
   ],
   "source": [
    "print(\"Classification Report for Decision Tree:\"\"\\n\",classification_report(y_test, y_pred))"
   ]
  },
  {
   "cell_type": "code",
   "execution_count": 51,
   "metadata": {},
   "outputs": [
    {
     "name": "stdout",
     "output_type": "stream",
     "text": [
      "Accuracy: 0.8140034803971747\n"
     ]
    }
   ],
   "source": [
    "# Create Decision Tree classifer object\n",
    "clf = DecisionTreeClassifier(criterion=\"entropy\")\n",
    "\n",
    "# Train Decision Tree Classifer\n",
    "clf = clf.fit(X_train,y_train)\n",
    "\n",
    "#Predict the response for test dataset\n",
    "y_pred = clf.predict(X_test)\n",
    "\n",
    "# Model Accuracy, how often is the classifier correct?\n",
    "print(\"Accuracy:\",metrics.accuracy_score(y_test, y_pred))"
   ]
  },
  {
   "cell_type": "code",
   "execution_count": 52,
   "metadata": {},
   "outputs": [
    {
     "name": "stdout",
     "output_type": "stream",
     "text": [
      "Classification Report for Decision Tree:\n",
      "               precision    recall  f1-score   support\n",
      "\n",
      "           0       0.88      0.87      0.88      7436\n",
      "           1       0.60      0.64      0.62      2333\n",
      "\n",
      "    accuracy                           0.81      9769\n",
      "   macro avg       0.74      0.75      0.75      9769\n",
      "weighted avg       0.82      0.81      0.82      9769\n",
      "\n"
     ]
    }
   ],
   "source": [
    "print(\"Classification Report for Decision Tree:\"\"\\n\",classification_report(y_test, y_pred))"
   ]
  },
  {
   "cell_type": "code",
   "execution_count": null,
   "metadata": {},
   "outputs": [],
   "source": [
    "#Random Forest"
   ]
  },
  {
   "cell_type": "code",
   "execution_count": 53,
   "metadata": {},
   "outputs": [],
   "source": [
    "# Import the model we are using\n",
    "from sklearn.ensemble import RandomForestClassifier\n",
    "# Instantiate model with 1000 decision trees\n",
    "rf = RandomForestClassifier(n_estimators = 10, random_state = None)\n",
    "# Train the model on training data\n",
    "rf.fit(X_train,y_train);"
   ]
  },
  {
   "cell_type": "code",
   "execution_count": 54,
   "metadata": {},
   "outputs": [],
   "source": [
    "# Use the forest's predict method on the test data\n",
    "y_pred = rf.predict(X_test)"
   ]
  },
  {
   "cell_type": "code",
   "execution_count": 55,
   "metadata": {},
   "outputs": [
    {
     "data": {
      "text/plain": [
       "array([0, 0, 0, ..., 0, 0, 0])"
      ]
     },
     "execution_count": 55,
     "metadata": {},
     "output_type": "execute_result"
    }
   ],
   "source": [
    "y_pred"
   ]
  },
  {
   "cell_type": "code",
   "execution_count": 60,
   "metadata": {},
   "outputs": [
    {
     "name": "stdout",
     "output_type": "stream",
     "text": [
      "Classification Report for Random Forest:\n",
      "               precision    recall  f1-score   support\n",
      "\n",
      "           0       0.81      0.92      0.86      7436\n",
      "           1       0.56      0.32      0.41      2333\n",
      "\n",
      "    accuracy                           0.78      9769\n",
      "   macro avg       0.69      0.62      0.64      9769\n",
      "weighted avg       0.75      0.78      0.75      9769\n",
      "\n"
     ]
    }
   ],
   "source": [
    "print(\"Classification Report for Random Forest:\"\"\\n\",classification_report(y_test, y_pred))"
   ]
  },
  {
   "cell_type": "code",
   "execution_count": null,
   "metadata": {},
   "outputs": [],
   "source": [
    "#KNN"
   ]
  },
  {
   "cell_type": "code",
   "execution_count": 61,
   "metadata": {},
   "outputs": [
    {
     "data": {
      "text/plain": [
       "KNeighborsClassifier()"
      ]
     },
     "execution_count": 61,
     "metadata": {},
     "output_type": "execute_result"
    }
   ],
   "source": [
    "from sklearn.neighbors import KNeighborsClassifier\n",
    "classifier = KNeighborsClassifier(n_neighbors=5)\n",
    "classifier.fit(X_train, y_train)"
   ]
  },
  {
   "cell_type": "code",
   "execution_count": 62,
   "metadata": {},
   "outputs": [],
   "source": [
    "y_pred = classifier.predict(X_test)"
   ]
  },
  {
   "cell_type": "code",
   "execution_count": 63,
   "metadata": {},
   "outputs": [
    {
     "name": "stdout",
     "output_type": "stream",
     "text": [
      "Confusion matrix \n",
      " [[6841  595]\n",
      " [1579  754]]\n",
      "              precision    recall  f1-score   support\n",
      "\n",
      "           0       0.81      0.92      0.86      7436\n",
      "           1       0.56      0.32      0.41      2333\n",
      "\n",
      "    accuracy                           0.78      9769\n",
      "   macro avg       0.69      0.62      0.64      9769\n",
      "weighted avg       0.75      0.78      0.75      9769\n",
      "\n"
     ]
    }
   ],
   "source": [
    "print('Confusion matrix ''\\n',confusion_matrix(y_test, y_pred))\n",
    "print(classification_report(y_test, y_pred))"
   ]
  },
  {
   "cell_type": "code",
   "execution_count": 64,
   "metadata": {},
   "outputs": [],
   "source": [
    "from sklearn.model_selection import cross_val_score\n",
    "accuracies = cross_val_score(estimator = rf, X = X_train, y = y_train, cv = 10)"
   ]
  },
  {
   "cell_type": "code",
   "execution_count": 65,
   "metadata": {},
   "outputs": [
    {
     "name": "stdout",
     "output_type": "stream",
     "text": [
      "Mean accuracy CV: 0.849728489719252\n",
      "Standard deviation of CV: 0.0050833119353086926\n"
     ]
    }
   ],
   "source": [
    "print('Mean accuracy CV:',accuracies.mean())\n",
    "print('Standard deviation of CV:',accuracies.std())"
   ]
  },
  {
   "cell_type": "code",
   "execution_count": 66,
   "metadata": {},
   "outputs": [],
   "source": [
    "#The suitable model is Random Forest"
   ]
  },
  {
   "cell_type": "code",
   "execution_count": null,
   "metadata": {},
   "outputs": [],
   "source": []
  }
 ],
 "metadata": {
  "kernelspec": {
   "display_name": "Python 3",
   "language": "python",
   "name": "python3"
  },
  "language_info": {
   "codemirror_mode": {
    "name": "ipython",
    "version": 3
   },
   "file_extension": ".py",
   "mimetype": "text/x-python",
   "name": "python",
   "nbconvert_exporter": "python",
   "pygments_lexer": "ipython3",
   "version": "3.8.3"
  }
 },
 "nbformat": 4,
 "nbformat_minor": 4
}
week 6 hw python.